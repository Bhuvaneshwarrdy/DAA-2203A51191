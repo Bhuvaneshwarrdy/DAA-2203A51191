{
  "nbformat": 4,
  "nbformat_minor": 0,
  "metadata": {
    "colab": {
      "provenance": []
    },
    "kernelspec": {
      "name": "python3",
      "display_name": "Python 3"
    },
    "language_info": {
      "name": "python"
    }
  },
  "cells": [
    {
      "cell_type": "code",
      "source": [
        "#bubble sort\n",
        "\n",
        "def bubblesort(arr):\n",
        "  n = len(arr)\n",
        "  for i in range(n):\n",
        "    for j in range(0,n-i-1):\n",
        "      if arr[j]>arr[j+1]:\n",
        "        arr[j],arr[j+1] = arr[j+1],arr[j]\n",
        "  return arr"
      ],
      "metadata": {
        "id": "1srR4whxJaCJ"
      },
      "execution_count": 10,
      "outputs": []
    },
    {
      "cell_type": "code",
      "source": [
        "import numpy as np\n",
        "arr = np.array([2,1,11,7,3,14,6])\n",
        "bubblesort(arr)"
      ],
      "metadata": {
        "colab": {
          "base_uri": "https://localhost:8080/"
        },
        "id": "ifRIwfhHJh4X",
        "outputId": "68397e6d-00a7-4da5-eb42-91eacd731bf3"
      },
      "execution_count": 11,
      "outputs": [
        {
          "output_type": "execute_result",
          "data": {
            "text/plain": [
              "array([ 1,  2,  3,  6,  7, 11, 14])"
            ]
          },
          "metadata": {},
          "execution_count": 11
        }
      ]
    },
    {
      "cell_type": "code",
      "source": [
        "#selection sort -> repeatedly selects the smallest or largest and swaps\n",
        "def selectionsort(arr):\n",
        "  n = len(arr)\n",
        "  for i in range(n):\n",
        "    min_idx = i\n",
        "    for j in range(i+1,n):\n",
        "      if arr[j]<arr[min_idx]:\n",
        "        min_idx = j\n",
        "    arr[i],arr[min_idx]= arr[min_idx],arr[i]\n",
        "  return arr"
      ],
      "metadata": {
        "id": "4bNJmWrEJuKP"
      },
      "execution_count": 12,
      "outputs": []
    },
    {
      "cell_type": "code",
      "source": [
        "import numpy as np\n",
        "arr = np.array([3,1,9,5,16,12])\n",
        "selectionsort(arr)"
      ],
      "metadata": {
        "colab": {
          "base_uri": "https://localhost:8080/"
        },
        "id": "X6RbdyjbJ2Tj",
        "outputId": "5915ea0d-9f3b-45de-b34c-4fc77ecaec0d"
      },
      "execution_count": 13,
      "outputs": [
        {
          "output_type": "execute_result",
          "data": {
            "text/plain": [
              "array([ 1,  3,  5,  9, 12, 16])"
            ]
          },
          "metadata": {},
          "execution_count": 13
        }
      ]
    },
    {
      "cell_type": "code",
      "source": [
        "#insertion sort -> finding minimum one and inserting at starting it builds by sorting one element at a time\n",
        "def insertionsort(arr):\n",
        "  n = len(arr)\n",
        "  for i in range(1,n):\n",
        "    key = arr[i]\n",
        "    j = i-1\n",
        "    while j>=0 and key<arr[j]:\n",
        "      arr[j+1] = arr[j]\n",
        "      j -= 1\n",
        "    arr[j+1] = key\n",
        "  return arr"
      ],
      "metadata": {
        "id": "w_WmJ8e7J7-P"
      },
      "execution_count": 14,
      "outputs": []
    },
    {
      "cell_type": "code",
      "source": [
        "import numpy as np\n",
        "arr = np.array([3,1,9,5,16,12])\n",
        "insertionsort(arr)"
      ],
      "metadata": {
        "colab": {
          "base_uri": "https://localhost:8080/"
        },
        "id": "YZwp2IQCJ_32",
        "outputId": "297d8a63-561b-4fd2-ab6d-53718a0986d6"
      },
      "execution_count": 15,
      "outputs": [
        {
          "output_type": "execute_result",
          "data": {
            "text/plain": [
              "array([ 1,  3,  5,  9, 12, 16])"
            ]
          },
          "metadata": {},
          "execution_count": 15
        }
      ]
    }
  ]
}